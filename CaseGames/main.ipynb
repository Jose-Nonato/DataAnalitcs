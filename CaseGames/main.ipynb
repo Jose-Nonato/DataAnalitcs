{
 "cells": [
  {
   "cell_type": "markdown",
   "metadata": {},
   "source": [
    "# Case Mercado de Games"
   ]
  },
  {
   "cell_type": "code",
   "execution_count": 1,
   "metadata": {},
   "outputs": [],
   "source": [
    "import pandas as pd\n",
    "import numpy as np\n",
    "import matplotlib.pyplot as plt\n",
    "import seaborn as sns\n",
    "\n",
    "import warnings\n",
    "warnings.filterwarnings('ignore')"
   ]
  },
  {
   "cell_type": "code",
   "execution_count": 2,
   "metadata": {},
   "outputs": [
    {
     "data": {
      "text/html": [
       "<div>\n",
       "<style scoped>\n",
       "    .dataframe tbody tr th:only-of-type {\n",
       "        vertical-align: middle;\n",
       "    }\n",
       "\n",
       "    .dataframe tbody tr th {\n",
       "        vertical-align: top;\n",
       "    }\n",
       "\n",
       "    .dataframe thead th {\n",
       "        text-align: right;\n",
       "    }\n",
       "</style>\n",
       "<table border=\"1\" class=\"dataframe\">\n",
       "  <thead>\n",
       "    <tr style=\"text-align: right;\">\n",
       "      <th></th>\n",
       "      <th>Game</th>\n",
       "      <th>Year</th>\n",
       "      <th>Genre</th>\n",
       "      <th>Publisher</th>\n",
       "      <th>North America</th>\n",
       "      <th>Europe</th>\n",
       "      <th>Japan</th>\n",
       "      <th>Rest of World</th>\n",
       "      <th>Global</th>\n",
       "    </tr>\n",
       "  </thead>\n",
       "  <tbody>\n",
       "    <tr>\n",
       "      <th>0</th>\n",
       "      <td>Grand Theft Auto V</td>\n",
       "      <td>2014.0</td>\n",
       "      <td>Action</td>\n",
       "      <td>Rockstar Games</td>\n",
       "      <td>6.06</td>\n",
       "      <td>9.71</td>\n",
       "      <td>0.60</td>\n",
       "      <td>3.02</td>\n",
       "      <td>19.39</td>\n",
       "    </tr>\n",
       "    <tr>\n",
       "      <th>1</th>\n",
       "      <td>Call of Duty: Black Ops 3</td>\n",
       "      <td>2015.0</td>\n",
       "      <td>Shooter</td>\n",
       "      <td>Activision</td>\n",
       "      <td>6.18</td>\n",
       "      <td>6.05</td>\n",
       "      <td>0.41</td>\n",
       "      <td>2.44</td>\n",
       "      <td>15.09</td>\n",
       "    </tr>\n",
       "    <tr>\n",
       "      <th>2</th>\n",
       "      <td>Red Dead Redemption 2</td>\n",
       "      <td>2018.0</td>\n",
       "      <td>Action-Adventure</td>\n",
       "      <td>Rockstar Games</td>\n",
       "      <td>5.26</td>\n",
       "      <td>6.21</td>\n",
       "      <td>0.21</td>\n",
       "      <td>2.26</td>\n",
       "      <td>13.94</td>\n",
       "    </tr>\n",
       "    <tr>\n",
       "      <th>3</th>\n",
       "      <td>Call of Duty: WWII</td>\n",
       "      <td>2017.0</td>\n",
       "      <td>Shooter</td>\n",
       "      <td>Activision</td>\n",
       "      <td>4.67</td>\n",
       "      <td>6.21</td>\n",
       "      <td>0.40</td>\n",
       "      <td>2.12</td>\n",
       "      <td>13.40</td>\n",
       "    </tr>\n",
       "    <tr>\n",
       "      <th>4</th>\n",
       "      <td>FIFA 18</td>\n",
       "      <td>2017.0</td>\n",
       "      <td>Sports</td>\n",
       "      <td>EA Sports</td>\n",
       "      <td>1.27</td>\n",
       "      <td>8.64</td>\n",
       "      <td>0.15</td>\n",
       "      <td>1.73</td>\n",
       "      <td>11.80</td>\n",
       "    </tr>\n",
       "  </tbody>\n",
       "</table>\n",
       "</div>"
      ],
      "text/plain": [
       "                        Game    Year             Genre       Publisher  \\\n",
       "0         Grand Theft Auto V  2014.0            Action  Rockstar Games   \n",
       "1  Call of Duty: Black Ops 3  2015.0           Shooter      Activision   \n",
       "2      Red Dead Redemption 2  2018.0  Action-Adventure  Rockstar Games   \n",
       "3         Call of Duty: WWII  2017.0           Shooter      Activision   \n",
       "4                    FIFA 18  2017.0            Sports       EA Sports   \n",
       "\n",
       "   North America  Europe  Japan  Rest of World  Global  \n",
       "0           6.06    9.71   0.60           3.02   19.39  \n",
       "1           6.18    6.05   0.41           2.44   15.09  \n",
       "2           5.26    6.21   0.21           2.26   13.94  \n",
       "3           4.67    6.21   0.40           2.12   13.40  \n",
       "4           1.27    8.64   0.15           1.73   11.80  "
      ]
     },
     "execution_count": 2,
     "metadata": {},
     "output_type": "execute_result"
    }
   ],
   "source": [
    "base_dados = pd.read_csv('PS4_GamesSales.csv', encoding='latin-1')\n",
    "base_dados.head()"
   ]
  },
  {
   "cell_type": "code",
   "execution_count": 3,
   "metadata": {},
   "outputs": [
    {
     "data": {
      "text/plain": [
       "(1034, 9)"
      ]
     },
     "execution_count": 3,
     "metadata": {},
     "output_type": "execute_result"
    }
   ],
   "source": [
    "# Dimensão\n",
    "base_dados.shape"
   ]
  },
  {
   "cell_type": "code",
   "execution_count": 4,
   "metadata": {},
   "outputs": [
    {
     "data": {
      "text/plain": [
       "Game               0\n",
       "Year             209\n",
       "Genre              0\n",
       "Publisher        209\n",
       "North America      0\n",
       "Europe             0\n",
       "Japan              0\n",
       "Rest of World      0\n",
       "Global             0\n",
       "dtype: int64"
      ]
     },
     "execution_count": 4,
     "metadata": {},
     "output_type": "execute_result"
    }
   ],
   "source": [
    "# Verifica se há campos nulos\n",
    "base_dados.isnull().sum()"
   ]
  },
  {
   "cell_type": "code",
   "execution_count": 5,
   "metadata": {},
   "outputs": [
    {
     "data": {
      "image/png": "[encoded data removed]",
      "text/plain": [
       "<Figure size 1008x360 with 1 Axes>"
      ]
     },
     "metadata": {
      "needs_background": "light"
     },
     "output_type": "display_data"
    }
   ],
   "source": [
    "# Nulos gráficos\n",
    "plt.figure(figsize=(14, 5))\n",
    "plt.title('Verificação de campos nulos')\n",
    "sns.heatmap(base_dados.isnull(), cbar=False);"
   ]
  },
  {
   "cell_type": "code",
   "execution_count": 6,
   "metadata": {},
   "outputs": [],
   "source": [
    "# Retirando os valores nulos\n",
    "base_dados.dropna(inplace=True)"
   ]
  },
  {
   "cell_type": "code",
   "execution_count": 7,
   "metadata": {},
   "outputs": [
    {
     "data": {
      "text/html": [
       "<div>\n",
       "<style scoped>\n",
       "    .dataframe tbody tr th:only-of-type {\n",
       "        vertical-align: middle;\n",
       "    }\n",
       "\n",
       "    .dataframe tbody tr th {\n",
       "        vertical-align: top;\n",
       "    }\n",
       "\n",
       "    .dataframe thead th {\n",
       "        text-align: right;\n",
       "    }\n",
       "</style>\n",
       "<table border=\"1\" class=\"dataframe\">\n",
       "  <thead>\n",
       "    <tr style=\"text-align: right;\">\n",
       "      <th></th>\n",
       "      <th>Year</th>\n",
       "      <th>North America</th>\n",
       "      <th>Europe</th>\n",
       "      <th>Japan</th>\n",
       "      <th>Rest of World</th>\n",
       "      <th>Global</th>\n",
       "    </tr>\n",
       "  </thead>\n",
       "  <tbody>\n",
       "    <tr>\n",
       "      <th>count</th>\n",
       "      <td>825.000000</td>\n",
       "      <td>825.000000</td>\n",
       "      <td>825.000000</td>\n",
       "      <td>825.000000</td>\n",
       "      <td>825.000000</td>\n",
       "      <td>825.000000</td>\n",
       "    </tr>\n",
       "    <tr>\n",
       "      <th>mean</th>\n",
       "      <td>2015.966061</td>\n",
       "      <td>0.256448</td>\n",
       "      <td>0.311600</td>\n",
       "      <td>0.042048</td>\n",
       "      <td>0.111552</td>\n",
       "      <td>0.721721</td>\n",
       "    </tr>\n",
       "    <tr>\n",
       "      <th>std</th>\n",
       "      <td>1.298360</td>\n",
       "      <td>0.620259</td>\n",
       "      <td>0.868271</td>\n",
       "      <td>0.119814</td>\n",
       "      <td>0.274713</td>\n",
       "      <td>1.743122</td>\n",
       "    </tr>\n",
       "    <tr>\n",
       "      <th>min</th>\n",
       "      <td>2013.000000</td>\n",
       "      <td>0.000000</td>\n",
       "      <td>0.000000</td>\n",
       "      <td>0.000000</td>\n",
       "      <td>0.000000</td>\n",
       "      <td>0.000000</td>\n",
       "    </tr>\n",
       "    <tr>\n",
       "      <th>25%</th>\n",
       "      <td>2015.000000</td>\n",
       "      <td>0.000000</td>\n",
       "      <td>0.000000</td>\n",
       "      <td>0.000000</td>\n",
       "      <td>0.000000</td>\n",
       "      <td>0.030000</td>\n",
       "    </tr>\n",
       "    <tr>\n",
       "      <th>50%</th>\n",
       "      <td>2016.000000</td>\n",
       "      <td>0.050000</td>\n",
       "      <td>0.020000</td>\n",
       "      <td>0.000000</td>\n",
       "      <td>0.020000</td>\n",
       "      <td>0.120000</td>\n",
       "    </tr>\n",
       "    <tr>\n",
       "      <th>75%</th>\n",
       "      <td>2017.000000</td>\n",
       "      <td>0.190000</td>\n",
       "      <td>0.220000</td>\n",
       "      <td>0.040000</td>\n",
       "      <td>0.090000</td>\n",
       "      <td>0.560000</td>\n",
       "    </tr>\n",
       "    <tr>\n",
       "      <th>max</th>\n",
       "      <td>2020.000000</td>\n",
       "      <td>6.180000</td>\n",
       "      <td>9.710000</td>\n",
       "      <td>2.170000</td>\n",
       "      <td>3.020000</td>\n",
       "      <td>19.390000</td>\n",
       "    </tr>\n",
       "  </tbody>\n",
       "</table>\n",
       "</div>"
      ],
      "text/plain": [
       "              Year  North America      Europe       Japan  Rest of World  \\\n",
       "count   825.000000     825.000000  825.000000  825.000000     825.000000   \n",
       "mean   2015.966061       0.256448    0.311600    0.042048       0.111552   \n",
       "std       1.298360       0.620259    0.868271    0.119814       0.274713   \n",
       "min    2013.000000       0.000000    0.000000    0.000000       0.000000   \n",
       "25%    2015.000000       0.000000    0.000000    0.000000       0.000000   \n",
       "50%    2016.000000       0.050000    0.020000    0.000000       0.020000   \n",
       "75%    2017.000000       0.190000    0.220000    0.040000       0.090000   \n",
       "max    2020.000000       6.180000    9.710000    2.170000       3.020000   \n",
       "\n",
       "           Global  \n",
       "count  825.000000  \n",
       "mean     0.721721  \n",
       "std      1.743122  \n",
       "min      0.000000  \n",
       "25%      0.030000  \n",
       "50%      0.120000  \n",
       "75%      0.560000  \n",
       "max     19.390000  "
      ]
     },
     "execution_count": 7,
     "metadata": {},
     "output_type": "execute_result"
    }
   ],
   "source": [
    "# Estatisticas\n",
    "base_dados.describe()"
   ]
  },
  {
   "cell_type": "code",
   "execution_count": 8,
   "metadata": {},
   "outputs": [
    {
     "data": {
      "text/plain": [
       "Text(0, 0.5, 'Quantidade de vendas (mi)')"
      ]
     },
     "execution_count": 8,
     "metadata": {},
     "output_type": "execute_result"
    },
    {
     "data": {
      "image/png": "[encoded data removed]",
      "text/plain": [
       "<Figure size 1008x360 with 1 Axes>"
      ]
     },
     "metadata": {
      "needs_background": "light"
     },
     "output_type": "display_data"
    }
   ],
   "source": [
    "plt.figure(figsize=(14, 5))\n",
    "plt.title('Quantidade de vendas globais (mi)', loc='left', fontsize=14)\n",
    "sns.barplot(data=base_dados, x='Year', y='Global', ci=None, color='#69b3a2', estimator=sum)\n",
    "plt.ylabel('Quantidade de vendas (mi)')"
   ]
  },
  {
   "cell_type": "code",
   "execution_count": 9,
   "metadata": {},
   "outputs": [
    {
     "data": {
      "text/html": [
       "<div>\n",
       "<style scoped>\n",
       "    .dataframe tbody tr th:only-of-type {\n",
       "        vertical-align: middle;\n",
       "    }\n",
       "\n",
       "    .dataframe tbody tr th {\n",
       "        vertical-align: top;\n",
       "    }\n",
       "\n",
       "    .dataframe thead th {\n",
       "        text-align: right;\n",
       "    }\n",
       "</style>\n",
       "<table border=\"1\" class=\"dataframe\">\n",
       "  <thead>\n",
       "    <tr style=\"text-align: right;\">\n",
       "      <th></th>\n",
       "      <th>Game</th>\n",
       "      <th>Year</th>\n",
       "      <th>Genre</th>\n",
       "      <th>Publisher</th>\n",
       "      <th>North America</th>\n",
       "      <th>Europe</th>\n",
       "      <th>Japan</th>\n",
       "      <th>Rest of World</th>\n",
       "      <th>Global</th>\n",
       "    </tr>\n",
       "  </thead>\n",
       "  <tbody>\n",
       "    <tr>\n",
       "      <th>0</th>\n",
       "      <td>Grand Theft Auto V</td>\n",
       "      <td>2014.0</td>\n",
       "      <td>Action</td>\n",
       "      <td>Rockstar Games</td>\n",
       "      <td>6.06</td>\n",
       "      <td>9.71</td>\n",
       "      <td>0.60</td>\n",
       "      <td>3.02</td>\n",
       "      <td>19.39</td>\n",
       "    </tr>\n",
       "    <tr>\n",
       "      <th>1</th>\n",
       "      <td>Call of Duty: Black Ops 3</td>\n",
       "      <td>2015.0</td>\n",
       "      <td>Shooter</td>\n",
       "      <td>Activision</td>\n",
       "      <td>6.18</td>\n",
       "      <td>6.05</td>\n",
       "      <td>0.41</td>\n",
       "      <td>2.44</td>\n",
       "      <td>15.09</td>\n",
       "    </tr>\n",
       "    <tr>\n",
       "      <th>2</th>\n",
       "      <td>Red Dead Redemption 2</td>\n",
       "      <td>2018.0</td>\n",
       "      <td>Action-Adventure</td>\n",
       "      <td>Rockstar Games</td>\n",
       "      <td>5.26</td>\n",
       "      <td>6.21</td>\n",
       "      <td>0.21</td>\n",
       "      <td>2.26</td>\n",
       "      <td>13.94</td>\n",
       "    </tr>\n",
       "    <tr>\n",
       "      <th>3</th>\n",
       "      <td>Call of Duty: WWII</td>\n",
       "      <td>2017.0</td>\n",
       "      <td>Shooter</td>\n",
       "      <td>Activision</td>\n",
       "      <td>4.67</td>\n",
       "      <td>6.21</td>\n",
       "      <td>0.40</td>\n",
       "      <td>2.12</td>\n",
       "      <td>13.40</td>\n",
       "    </tr>\n",
       "    <tr>\n",
       "      <th>4</th>\n",
       "      <td>FIFA 18</td>\n",
       "      <td>2017.0</td>\n",
       "      <td>Sports</td>\n",
       "      <td>EA Sports</td>\n",
       "      <td>1.27</td>\n",
       "      <td>8.64</td>\n",
       "      <td>0.15</td>\n",
       "      <td>1.73</td>\n",
       "      <td>11.80</td>\n",
       "    </tr>\n",
       "  </tbody>\n",
       "</table>\n",
       "</div>"
      ],
      "text/plain": [
       "                        Game    Year             Genre       Publisher  \\\n",
       "0         Grand Theft Auto V  2014.0            Action  Rockstar Games   \n",
       "1  Call of Duty: Black Ops 3  2015.0           Shooter      Activision   \n",
       "2      Red Dead Redemption 2  2018.0  Action-Adventure  Rockstar Games   \n",
       "3         Call of Duty: WWII  2017.0           Shooter      Activision   \n",
       "4                    FIFA 18  2017.0            Sports       EA Sports   \n",
       "\n",
       "   North America  Europe  Japan  Rest of World  Global  \n",
       "0           6.06    9.71   0.60           3.02   19.39  \n",
       "1           6.18    6.05   0.41           2.44   15.09  \n",
       "2           5.26    6.21   0.21           2.26   13.94  \n",
       "3           4.67    6.21   0.40           2.12   13.40  \n",
       "4           1.27    8.64   0.15           1.73   11.80  "
      ]
     },
     "execution_count": 9,
     "metadata": {},
     "output_type": "execute_result"
    }
   ],
   "source": [
    "# Retirar os anos \n",
    "base_dados = base_dados.loc[ (base_dados['Year'] != 2019) & (base_dados['Year'] != 2020) ]\n",
    "base_dados.head()"
   ]
  },
  {
   "cell_type": "code",
   "execution_count": 10,
   "metadata": {},
   "outputs": [
    {
     "data": {
      "image/png": "[encoded data removed]",
      "text/plain": [
       "<Figure size 864x360 with 1 Axes>"
      ]
     },
     "metadata": {
      "needs_background": "light"
     },
     "output_type": "display_data"
    }
   ],
   "source": [
    "plt.figure(figsize=(12, 5)) # Tamanho\n",
    "plt.style.use('ggplot') # Estilo\n",
    "plt.title('Destribuição das Vendas Globais', loc='left', fontsize=14) # Titulo\n",
    "sns.kdeplot(base_dados['Global'], shade=True, bw=1, color='#96a8a8', linewidth=2.5);"
   ]
  },
  {
   "cell_type": "code",
   "execution_count": 11,
   "metadata": {},
   "outputs": [
    {
     "data": {
      "text/html": [
       "<div>\n",
       "<style scoped>\n",
       "    .dataframe tbody tr th:only-of-type {\n",
       "        vertical-align: middle;\n",
       "    }\n",
       "\n",
       "    .dataframe tbody tr th {\n",
       "        vertical-align: top;\n",
       "    }\n",
       "\n",
       "    .dataframe thead th {\n",
       "        text-align: right;\n",
       "    }\n",
       "</style>\n",
       "<table border=\"1\" class=\"dataframe\">\n",
       "  <thead>\n",
       "    <tr style=\"text-align: right;\">\n",
       "      <th></th>\n",
       "      <th>North America</th>\n",
       "      <th>Europe</th>\n",
       "      <th>Japan</th>\n",
       "      <th>Rest of World</th>\n",
       "      <th>Global</th>\n",
       "    </tr>\n",
       "    <tr>\n",
       "      <th>Year</th>\n",
       "      <th></th>\n",
       "      <th></th>\n",
       "      <th></th>\n",
       "      <th></th>\n",
       "      <th></th>\n",
       "    </tr>\n",
       "  </thead>\n",
       "  <tbody>\n",
       "    <tr>\n",
       "      <th>2013.0</th>\n",
       "      <td>10.35</td>\n",
       "      <td>12.88</td>\n",
       "      <td>0.97</td>\n",
       "      <td>4.57</td>\n",
       "      <td>28.76</td>\n",
       "    </tr>\n",
       "    <tr>\n",
       "      <th>2014.0</th>\n",
       "      <td>39.80</td>\n",
       "      <td>54.12</td>\n",
       "      <td>3.58</td>\n",
       "      <td>18.29</td>\n",
       "      <td>115.85</td>\n",
       "    </tr>\n",
       "    <tr>\n",
       "      <th>2015.0</th>\n",
       "      <td>49.60</td>\n",
       "      <td>56.21</td>\n",
       "      <td>7.28</td>\n",
       "      <td>20.88</td>\n",
       "      <td>133.99</td>\n",
       "    </tr>\n",
       "    <tr>\n",
       "      <th>2016.0</th>\n",
       "      <td>47.40</td>\n",
       "      <td>57.98</td>\n",
       "      <td>9.65</td>\n",
       "      <td>20.71</td>\n",
       "      <td>135.72</td>\n",
       "    </tr>\n",
       "    <tr>\n",
       "      <th>2017.0</th>\n",
       "      <td>44.77</td>\n",
       "      <td>57.18</td>\n",
       "      <td>9.08</td>\n",
       "      <td>19.89</td>\n",
       "      <td>130.90</td>\n",
       "    </tr>\n",
       "    <tr>\n",
       "      <th>2018.0</th>\n",
       "      <td>19.65</td>\n",
       "      <td>18.70</td>\n",
       "      <td>4.13</td>\n",
       "      <td>7.69</td>\n",
       "      <td>50.20</td>\n",
       "    </tr>\n",
       "  </tbody>\n",
       "</table>\n",
       "</div>"
      ],
      "text/plain": [
       "        North America  Europe  Japan  Rest of World  Global\n",
       "Year                                                       \n",
       "2013.0          10.35   12.88   0.97           4.57   28.76\n",
       "2014.0          39.80   54.12   3.58          18.29  115.85\n",
       "2015.0          49.60   56.21   7.28          20.88  133.99\n",
       "2016.0          47.40   57.98   9.65          20.71  135.72\n",
       "2017.0          44.77   57.18   9.08          19.89  130.90\n",
       "2018.0          19.65   18.70   4.13           7.69   50.20"
      ]
     },
     "execution_count": 11,
     "metadata": {},
     "output_type": "execute_result"
    }
   ],
   "source": [
    "base_dados.groupby(by=['Year']).sum()"
   ]
  },
  {
   "cell_type": "code",
   "execution_count": 12,
   "metadata": {},
   "outputs": [
    {
     "data": {
      "text/plain": [
       "<AxesSubplot:xlabel='Year', ylabel='Global'>"
      ]
     },
     "execution_count": 12,
     "metadata": {},
     "output_type": "execute_result"
    },
    {
     "data": {
      "image/png": "[encoded data removed]",
      "text/plain": [
       "<Figure size 720x288 with 1 Axes>"
      ]
     },
     "metadata": {},
     "output_type": "display_data"
    }
   ],
   "source": [
    "plt.figure(figsize=(10, 4)) # Tamanho\n",
    "sns.boxplot(data=base_dados, x='Year', y='Global')"
   ]
  }
 ],
 "metadata": {
  "kernelspec": {
   "display_name": "Python 3.9.13 64-bit (windows store)",
   "language": "python",
   "name": "python3"
  },
  "language_info": {
   "codemirror_mode": {
    "name": "ipython",
    "version": 3
   },
   "file_extension": ".py",
   "mimetype": "text/x-python",
   "name": "python",
   "nbconvert_exporter": "python",
   "pygments_lexer": "ipython3",
   "version": "3.9.13"
  },
  "orig_nbformat": 4,
  "vscode": {
   "interpreter": {
    "hash": "f2609e5b435c93a047570fa2639d8fd67d57d60e828c513250a814560dea39f8"
   }
  }
 },
 "nbformat": 4,
 "nbformat_minor": 2
}
